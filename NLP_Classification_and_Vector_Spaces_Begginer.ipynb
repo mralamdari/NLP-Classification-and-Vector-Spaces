{
  "nbformat": 4,
  "nbformat_minor": 0,
  "metadata": {
    "colab": {
      "name": "NLP-Classification-and-Vector-Spaces-Begginer.ipynb",
      "provenance": [],
      "collapsed_sections": [],
      "authorship_tag": "ABX9TyNtil3Tjvm8oHq1bdqvVHJH",
      "include_colab_link": true
    },
    "kernelspec": {
      "name": "python3",
      "display_name": "Python 3"
    },
    "language_info": {
      "name": "python"
    }
  },
  "cells": [
    {
      "cell_type": "markdown",
      "metadata": {
        "id": "view-in-github",
        "colab_type": "text"
      },
      "source": [
        "<a href=\"https://colab.research.google.com/github/mr-alamdari/NLP-Classification-and-Vector-Spaces-Begginer/blob/main/NLP_Classification_and_Vector_Spaces_Begginer.ipynb\" target=\"_parent\"><img src=\"https://colab.research.google.com/assets/colab-badge.svg\" alt=\"Open In Colab\"/></a>"
      ]
    },
    {
      "cell_type": "code",
      "execution_count": 11,
      "metadata": {
        "id": "icp5K7Yjg5wO"
      },
      "outputs": [],
      "source": [
        "import os\n",
        "import numpy as np\n",
        "import pandas as pd\n",
        "import matplotlib.pyplot as plt"
      ]
    },
    {
      "cell_type": "markdown",
      "source": [
        "#1.Data\n",
        "\n",
        "##[Large Movie Review Dataset](https://ai.stanford.edu/~amaas/data/sentiment/)"
      ],
      "metadata": {
        "id": "H_yN6IAKjLp0"
      }
    },
    {
      "cell_type": "code",
      "source": [
        "!wget https://ai.stanford.edu/~amaas/data/sentiment/aclImdb_v1.tar.gz"
      ],
      "metadata": {
        "colab": {
          "base_uri": "https://localhost:8080/"
        },
        "id": "1zH-qQuRiI5s",
        "outputId": "79bafe6b-24ba-4f47-eec4-670aa7b19e8b"
      },
      "execution_count": 18,
      "outputs": [
        {
          "output_type": "stream",
          "name": "stdout",
          "text": [
            "--2022-04-10 13:09:59--  https://ai.stanford.edu/~amaas/data/sentiment/aclImdb_v1.tar.gz\n",
            "Resolving ai.stanford.edu (ai.stanford.edu)... 171.64.68.10\n",
            "Connecting to ai.stanford.edu (ai.stanford.edu)|171.64.68.10|:443... connected.\n",
            "HTTP request sent, awaiting response... 200 OK\n",
            "Length: 84125825 (80M) [application/x-gzip]\n",
            "Saving to: ‘aclImdb_v1.tar.gz’\n",
            "\n",
            "aclImdb_v1.tar.gz   100%[===================>]  80.23M  23.2MB/s    in 3.5s    \n",
            "\n",
            "2022-04-10 13:10:02 (23.2 MB/s) - ‘aclImdb_v1.tar.gz’ saved [84125825/84125825]\n",
            "\n"
          ]
        }
      ]
    },
    {
      "cell_type": "code",
      "source": [
        "import tarfile\n",
        "files = tarfile.open('/content/aclImdb_v1.tar.gz')\n",
        "files.extractall('/content/')"
      ],
      "metadata": {
        "id": "DDANLU4IiegI"
      },
      "execution_count": 20,
      "outputs": []
    },
    {
      "cell_type": "code",
      "source": [
        "path2data = '/content/aclImdb/'\n",
        "\n",
        "os.listdir(path2data)"
      ],
      "metadata": {
        "colab": {
          "base_uri": "https://localhost:8080/"
        },
        "id": "Ryz0I5O7i_hu",
        "outputId": "ec5a74c2-e77c-483f-9ea7-1b18d4a3f76a"
      },
      "execution_count": 21,
      "outputs": [
        {
          "output_type": "execute_result",
          "data": {
            "text/plain": [
              "['imdbEr.txt', 'test', 'imdb.vocab', 'README', 'train']"
            ]
          },
          "metadata": {},
          "execution_count": 21
        }
      ]
    },
    {
      "cell_type": "code",
      "source": [
        "path2datasets = []\n",
        "path2train = []\n",
        "\n",
        "for root, dirs, files in os.walk(path2data):\n",
        "  if 'pos' in root or 'neg' in root:\n",
        "    print(root, len(files))\n",
        "    path2datasets.append(root)\n"
      ],
      "metadata": {
        "colab": {
          "base_uri": "https://localhost:8080/"
        },
        "id": "1lkbBijZji4N",
        "outputId": "4dec7a9e-c69d-43b4-b526-93e925ee6932"
      },
      "execution_count": 38,
      "outputs": [
        {
          "output_type": "stream",
          "name": "stdout",
          "text": [
            "/content/aclImdb/test/pos 12500\n",
            "/content/aclImdb/test/neg 12500\n",
            "/content/aclImdb/train/pos 12500\n",
            "/content/aclImdb/train/neg 12500\n"
          ]
        }
      ]
    },
    {
      "cell_type": "markdown",
      "source": [
        "So we have 12500 number of comments on each pos or neg folder.\n",
        "but we are going to use 100 of them to start our practice"
      ],
      "metadata": {
        "id": "bAvkWy-QpGMG"
      }
    },
    {
      "cell_type": "code",
      "source": [
        "data_dic = {}\n",
        "for ds in path2datasets:\n",
        "\n",
        "  temp_arr = []\n",
        "  for c_path in os.listdir(ds):\n",
        "\n",
        "    path = f'{ds}/{c_path}'\n",
        "    with open (path, 'r') as f:\n",
        "      temp_arr.append(f.read())\n",
        "  \n",
        "  data_dic[f\"{ds.replace('/content/aclImdb/', '').replace('/', '_')}\"] = temp_arr"
      ],
      "metadata": {
        "id": "cmk8UVHRjyo6"
      },
      "execution_count": 49,
      "outputs": []
    },
    {
      "cell_type": "code",
      "source": [
        "data_df = pd.DataFrame(data_dic)"
      ],
      "metadata": {
        "id": "jlI-pWcKpsw_"
      },
      "execution_count": 51,
      "outputs": []
    },
    {
      "cell_type": "code",
      "source": [
        "data_df"
      ],
      "metadata": {
        "colab": {
          "base_uri": "https://localhost:8080/",
          "height": 423
        },
        "id": "I_nQlkrzsIux",
        "outputId": "020f4a97-eb1f-4be8-aa98-a7cbffb6c5d8"
      },
      "execution_count": 52,
      "outputs": [
        {
          "output_type": "execute_result",
          "data": {
            "text/plain": [
              "                                                test_pos  \\\n",
              "0      Caution-possible spoilers ahead\n",
              ".. Just watche...   \n",
              "1      When I saw the first preview for this, I nearl...   \n",
              "2      The Beatles had just done 'Magical Mystery Tou...   \n",
              "3      Worst horror film ever but funniest film ever ...   \n",
              "4      The 20th animated Disney classic is often crit...   \n",
              "...                                                  ...   \n",
              "12495  Cary Elwes have to say puts on a better perfor...   \n",
              "12496  Screened this morning for the press at Roma fi...   \n",
              "12497  Most of the Brigitte Bardot movies I've seen h...   \n",
              "12498  For a kid's movie, this is great. As an adult ...   \n",
              "12499  RENDITION is a film not to miss with solid wri...   \n",
              "\n",
              "                                                test_neg  \\\n",
              "0      Just to save you the $3, or whatever it costs ...   \n",
              "1      I do not see what is the whole deal about this...   \n",
              "2      This movie is like porn with all of the good p...   \n",
              "3      OK we have 4 city electricians who find a mini...   \n",
              "4      I liked the understated character that Laura L...   \n",
              "...                                                  ...   \n",
              "12495  I saw this film when it first came out and hat...   \n",
              "12496  The Big Knife, a movie about the dark side of ...   \n",
              "12497  First of all, I'm upset there's no choice of a...   \n",
              "12498  So I was sick with the flu one Saturday and th...   \n",
              "12499  I turned this off within the first five minute...   \n",
              "\n",
              "                                               train_pos  \\\n",
              "0      And my children love it now! Granted, I can wa...   \n",
              "1      Post-feminist depiction of cruelty and sadism....   \n",
              "2      Genre: Dinosaur, animation, New York, time tra...   \n",
              "3      The events of September 11 2001 do not need ex...   \n",
              "4      So, every year there is at least one movie, th...   \n",
              "...                                                  ...   \n",
              "12495  I was drawn to DAN IN REAL LIFE from the excel...   \n",
              "12496  I had a personal interest in this movie. When ...   \n",
              "12497  I really enjoyed Girl Fight. It something I co...   \n",
              "12498  Initially, I would have thought that Secret Su...   \n",
              "12499  This movie has one of the cheesiest plots I ha...   \n",
              "\n",
              "                                               train_neg  \n",
              "0      When i saw the preview for this on TV i was th...  \n",
              "1      Della Myers (Kim Basinger) is an upper-class h...  \n",
              "2      this seemed an odd combination of Withnail and...  \n",
              "3      \"Land of Plenty\" is not a film. It is a tombst...  \n",
              "4      I saw this movie about 5 years ago, and the me...  \n",
              "...                                                  ...  \n",
              "12495  the author of the book, by the same title, sho...  \n",
              "12496  This, for lack of a better term, movie is lous...  \n",
              "12497  The plot line of No One Sleeps is not a bad id...  \n",
              "12498  This appalling film somehow saw the light of d...  \n",
              "12499  What happened to Peter Bogdanovich? Once a bri...  \n",
              "\n",
              "[12500 rows x 4 columns]"
            ],
            "text/html": [
              "\n",
              "  <div id=\"df-5cfa90ce-8d72-4b27-9e4a-f8ccb8f73ca8\">\n",
              "    <div class=\"colab-df-container\">\n",
              "      <div>\n",
              "<style scoped>\n",
              "    .dataframe tbody tr th:only-of-type {\n",
              "        vertical-align: middle;\n",
              "    }\n",
              "\n",
              "    .dataframe tbody tr th {\n",
              "        vertical-align: top;\n",
              "    }\n",
              "\n",
              "    .dataframe thead th {\n",
              "        text-align: right;\n",
              "    }\n",
              "</style>\n",
              "<table border=\"1\" class=\"dataframe\">\n",
              "  <thead>\n",
              "    <tr style=\"text-align: right;\">\n",
              "      <th></th>\n",
              "      <th>test_pos</th>\n",
              "      <th>test_neg</th>\n",
              "      <th>train_pos</th>\n",
              "      <th>train_neg</th>\n",
              "    </tr>\n",
              "  </thead>\n",
              "  <tbody>\n",
              "    <tr>\n",
              "      <th>0</th>\n",
              "      <td>Caution-possible spoilers ahead.. Just watche...</td>\n",
              "      <td>Just to save you the $3, or whatever it costs ...</td>\n",
              "      <td>And my children love it now! Granted, I can wa...</td>\n",
              "      <td>When i saw the preview for this on TV i was th...</td>\n",
              "    </tr>\n",
              "    <tr>\n",
              "      <th>1</th>\n",
              "      <td>When I saw the first preview for this, I nearl...</td>\n",
              "      <td>I do not see what is the whole deal about this...</td>\n",
              "      <td>Post-feminist depiction of cruelty and sadism....</td>\n",
              "      <td>Della Myers (Kim Basinger) is an upper-class h...</td>\n",
              "    </tr>\n",
              "    <tr>\n",
              "      <th>2</th>\n",
              "      <td>The Beatles had just done 'Magical Mystery Tou...</td>\n",
              "      <td>This movie is like porn with all of the good p...</td>\n",
              "      <td>Genre: Dinosaur, animation, New York, time tra...</td>\n",
              "      <td>this seemed an odd combination of Withnail and...</td>\n",
              "    </tr>\n",
              "    <tr>\n",
              "      <th>3</th>\n",
              "      <td>Worst horror film ever but funniest film ever ...</td>\n",
              "      <td>OK we have 4 city electricians who find a mini...</td>\n",
              "      <td>The events of September 11 2001 do not need ex...</td>\n",
              "      <td>\"Land of Plenty\" is not a film. It is a tombst...</td>\n",
              "    </tr>\n",
              "    <tr>\n",
              "      <th>4</th>\n",
              "      <td>The 20th animated Disney classic is often crit...</td>\n",
              "      <td>I liked the understated character that Laura L...</td>\n",
              "      <td>So, every year there is at least one movie, th...</td>\n",
              "      <td>I saw this movie about 5 years ago, and the me...</td>\n",
              "    </tr>\n",
              "    <tr>\n",
              "      <th>...</th>\n",
              "      <td>...</td>\n",
              "      <td>...</td>\n",
              "      <td>...</td>\n",
              "      <td>...</td>\n",
              "    </tr>\n",
              "    <tr>\n",
              "      <th>12495</th>\n",
              "      <td>Cary Elwes have to say puts on a better perfor...</td>\n",
              "      <td>I saw this film when it first came out and hat...</td>\n",
              "      <td>I was drawn to DAN IN REAL LIFE from the excel...</td>\n",
              "      <td>the author of the book, by the same title, sho...</td>\n",
              "    </tr>\n",
              "    <tr>\n",
              "      <th>12496</th>\n",
              "      <td>Screened this morning for the press at Roma fi...</td>\n",
              "      <td>The Big Knife, a movie about the dark side of ...</td>\n",
              "      <td>I had a personal interest in this movie. When ...</td>\n",
              "      <td>This, for lack of a better term, movie is lous...</td>\n",
              "    </tr>\n",
              "    <tr>\n",
              "      <th>12497</th>\n",
              "      <td>Most of the Brigitte Bardot movies I've seen h...</td>\n",
              "      <td>First of all, I'm upset there's no choice of a...</td>\n",
              "      <td>I really enjoyed Girl Fight. It something I co...</td>\n",
              "      <td>The plot line of No One Sleeps is not a bad id...</td>\n",
              "    </tr>\n",
              "    <tr>\n",
              "      <th>12498</th>\n",
              "      <td>For a kid's movie, this is great. As an adult ...</td>\n",
              "      <td>So I was sick with the flu one Saturday and th...</td>\n",
              "      <td>Initially, I would have thought that Secret Su...</td>\n",
              "      <td>This appalling film somehow saw the light of d...</td>\n",
              "    </tr>\n",
              "    <tr>\n",
              "      <th>12499</th>\n",
              "      <td>RENDITION is a film not to miss with solid wri...</td>\n",
              "      <td>I turned this off within the first five minute...</td>\n",
              "      <td>This movie has one of the cheesiest plots I ha...</td>\n",
              "      <td>What happened to Peter Bogdanovich? Once a bri...</td>\n",
              "    </tr>\n",
              "  </tbody>\n",
              "</table>\n",
              "<p>12500 rows × 4 columns</p>\n",
              "</div>\n",
              "      <button class=\"colab-df-convert\" onclick=\"convertToInteractive('df-5cfa90ce-8d72-4b27-9e4a-f8ccb8f73ca8')\"\n",
              "              title=\"Convert this dataframe to an interactive table.\"\n",
              "              style=\"display:none;\">\n",
              "        \n",
              "  <svg xmlns=\"http://www.w3.org/2000/svg\" height=\"24px\"viewBox=\"0 0 24 24\"\n",
              "       width=\"24px\">\n",
              "    <path d=\"M0 0h24v24H0V0z\" fill=\"none\"/>\n",
              "    <path d=\"M18.56 5.44l.94 2.06.94-2.06 2.06-.94-2.06-.94-.94-2.06-.94 2.06-2.06.94zm-11 1L8.5 8.5l.94-2.06 2.06-.94-2.06-.94L8.5 2.5l-.94 2.06-2.06.94zm10 10l.94 2.06.94-2.06 2.06-.94-2.06-.94-.94-2.06-.94 2.06-2.06.94z\"/><path d=\"M17.41 7.96l-1.37-1.37c-.4-.4-.92-.59-1.43-.59-.52 0-1.04.2-1.43.59L10.3 9.45l-7.72 7.72c-.78.78-.78 2.05 0 2.83L4 21.41c.39.39.9.59 1.41.59.51 0 1.02-.2 1.41-.59l7.78-7.78 2.81-2.81c.8-.78.8-2.07 0-2.86zM5.41 20L4 18.59l7.72-7.72 1.47 1.35L5.41 20z\"/>\n",
              "  </svg>\n",
              "      </button>\n",
              "      \n",
              "  <style>\n",
              "    .colab-df-container {\n",
              "      display:flex;\n",
              "      flex-wrap:wrap;\n",
              "      gap: 12px;\n",
              "    }\n",
              "\n",
              "    .colab-df-convert {\n",
              "      background-color: #E8F0FE;\n",
              "      border: none;\n",
              "      border-radius: 50%;\n",
              "      cursor: pointer;\n",
              "      display: none;\n",
              "      fill: #1967D2;\n",
              "      height: 32px;\n",
              "      padding: 0 0 0 0;\n",
              "      width: 32px;\n",
              "    }\n",
              "\n",
              "    .colab-df-convert:hover {\n",
              "      background-color: #E2EBFA;\n",
              "      box-shadow: 0px 1px 2px rgba(60, 64, 67, 0.3), 0px 1px 3px 1px rgba(60, 64, 67, 0.15);\n",
              "      fill: #174EA6;\n",
              "    }\n",
              "\n",
              "    [theme=dark] .colab-df-convert {\n",
              "      background-color: #3B4455;\n",
              "      fill: #D2E3FC;\n",
              "    }\n",
              "\n",
              "    [theme=dark] .colab-df-convert:hover {\n",
              "      background-color: #434B5C;\n",
              "      box-shadow: 0px 1px 3px 1px rgba(0, 0, 0, 0.15);\n",
              "      filter: drop-shadow(0px 1px 2px rgba(0, 0, 0, 0.3));\n",
              "      fill: #FFFFFF;\n",
              "    }\n",
              "  </style>\n",
              "\n",
              "      <script>\n",
              "        const buttonEl =\n",
              "          document.querySelector('#df-5cfa90ce-8d72-4b27-9e4a-f8ccb8f73ca8 button.colab-df-convert');\n",
              "        buttonEl.style.display =\n",
              "          google.colab.kernel.accessAllowed ? 'block' : 'none';\n",
              "\n",
              "        async function convertToInteractive(key) {\n",
              "          const element = document.querySelector('#df-5cfa90ce-8d72-4b27-9e4a-f8ccb8f73ca8');\n",
              "          const dataTable =\n",
              "            await google.colab.kernel.invokeFunction('convertToInteractive',\n",
              "                                                     [key], {});\n",
              "          if (!dataTable) return;\n",
              "\n",
              "          const docLinkHtml = 'Like what you see? Visit the ' +\n",
              "            '<a target=\"_blank\" href=https://colab.research.google.com/notebooks/data_table.ipynb>data table notebook</a>'\n",
              "            + ' to learn more about interactive tables.';\n",
              "          element.innerHTML = '';\n",
              "          dataTable['output_type'] = 'display_data';\n",
              "          await google.colab.output.renderOutput(dataTable, element);\n",
              "          const docLink = document.createElement('div');\n",
              "          docLink.innerHTML = docLinkHtml;\n",
              "          element.appendChild(docLink);\n",
              "        }\n",
              "      </script>\n",
              "    </div>\n",
              "  </div>\n",
              "  "
            ]
          },
          "metadata": {},
          "execution_count": 52
        }
      ]
    },
    {
      "cell_type": "code",
      "source": [
        ""
      ],
      "metadata": {
        "id": "vzKgafLn1GWP"
      },
      "execution_count": null,
      "outputs": []
    }
  ]
}