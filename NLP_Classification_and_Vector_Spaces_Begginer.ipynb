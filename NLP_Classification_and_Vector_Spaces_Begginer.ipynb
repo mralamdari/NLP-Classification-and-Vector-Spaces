{
  "nbformat": 4,
  "nbformat_minor": 0,
  "metadata": {
    "colab": {
      "name": "NLP-Classification-and-Vector-Spaces-Begginer.ipynb",
      "provenance": [],
      "collapsed_sections": [],
      "authorship_tag": "ABX9TyPqdY7I4tlThvwrQy7J8vo9",
      "include_colab_link": true
    },
    "kernelspec": {
      "name": "python3",
      "display_name": "Python 3"
    },
    "language_info": {
      "name": "python"
    }
  },
  "cells": [
    {
      "cell_type": "markdown",
      "metadata": {
        "id": "view-in-github",
        "colab_type": "text"
      },
      "source": [
        "<a href=\"https://colab.research.google.com/github/mr-alamdari/NLP-Classification-and-Vector-Spaces-Begginer/blob/main/NLP_Classification_and_Vector_Spaces_Begginer.ipynb\" target=\"_parent\"><img src=\"https://colab.research.google.com/assets/colab-badge.svg\" alt=\"Open In Colab\"/></a>"
      ]
    },
    {
      "cell_type": "code",
      "execution_count": 160,
      "metadata": {
        "id": "icp5K7Yjg5wO"
      },
      "outputs": [],
      "source": [
        "import os\n",
        "import numpy as np\n",
        "import pandas as pd\n",
        "import matplotlib.pyplot as plt"
      ]
    },
    {
      "cell_type": "markdown",
      "source": [
        "#1.Data\n",
        "\n",
        "##[Large Movie Review Dataset](https://ai.stanford.edu/~amaas/data/sentiment/)"
      ],
      "metadata": {
        "id": "H_yN6IAKjLp0"
      }
    },
    {
      "cell_type": "code",
      "source": [
        "!wget https://ai.stanford.edu/~amaas/data/sentiment/aclImdb_v1.tar.gz"
      ],
      "metadata": {
        "colab": {
          "base_uri": "https://localhost:8080/"
        },
        "id": "1zH-qQuRiI5s",
        "outputId": "6a904ffb-8aa2-4e18-ca91-2865cfddd143"
      },
      "execution_count": 2,
      "outputs": [
        {
          "output_type": "stream",
          "name": "stdout",
          "text": [
            "--2022-04-11 02:43:06--  https://ai.stanford.edu/~amaas/data/sentiment/aclImdb_v1.tar.gz\n",
            "Resolving ai.stanford.edu (ai.stanford.edu)... 171.64.68.10\n",
            "Connecting to ai.stanford.edu (ai.stanford.edu)|171.64.68.10|:443... connected.\n",
            "HTTP request sent, awaiting response... 200 OK\n",
            "Length: 84125825 (80M) [application/x-gzip]\n",
            "Saving to: ‘aclImdb_v1.tar.gz’\n",
            "\n",
            "aclImdb_v1.tar.gz   100%[===================>]  80.23M  18.4MB/s    in 9.3s    \n",
            "\n",
            "2022-04-11 02:43:16 (8.62 MB/s) - ‘aclImdb_v1.tar.gz’ saved [84125825/84125825]\n",
            "\n"
          ]
        }
      ]
    },
    {
      "cell_type": "code",
      "source": [
        "import tarfile\n",
        "files = tarfile.open('/content/aclImdb_v1.tar.gz')\n",
        "files.extractall('/content/')"
      ],
      "metadata": {
        "id": "DDANLU4IiegI"
      },
      "execution_count": 3,
      "outputs": []
    },
    {
      "cell_type": "code",
      "source": [
        "path2data = '/content/aclImdb/'\n",
        "\n",
        "os.listdir(path2data)"
      ],
      "metadata": {
        "colab": {
          "base_uri": "https://localhost:8080/"
        },
        "id": "Ryz0I5O7i_hu",
        "outputId": "c678401d-b5f0-4cc7-a0c0-a9d15145c259"
      },
      "execution_count": 4,
      "outputs": [
        {
          "output_type": "execute_result",
          "data": {
            "text/plain": [
              "['imdbEr.txt', 'test', 'imdb.vocab', 'README', 'train']"
            ]
          },
          "metadata": {},
          "execution_count": 4
        }
      ]
    },
    {
      "cell_type": "code",
      "source": [
        "path2datasets = []\n",
        "path2train = []\n",
        "\n",
        "for root, dirs, files in os.walk(path2data):\n",
        "  if 'pos' in root or 'neg' in root:\n",
        "    print(root, len(files))\n",
        "    path2datasets.append(root)\n"
      ],
      "metadata": {
        "colab": {
          "base_uri": "https://localhost:8080/"
        },
        "id": "1lkbBijZji4N",
        "outputId": "d1957f50-737d-4dd0-89db-c83eff91b718"
      },
      "execution_count": 5,
      "outputs": [
        {
          "output_type": "stream",
          "name": "stdout",
          "text": [
            "/content/aclImdb/test/pos 12500\n",
            "/content/aclImdb/test/neg 12500\n",
            "/content/aclImdb/train/pos 12500\n",
            "/content/aclImdb/train/neg 12500\n"
          ]
        }
      ]
    },
    {
      "cell_type": "markdown",
      "source": [
        "So we have 12500 number of comments on each pos or neg folder.\n",
        "but we are going to use 4 of them to start our practice"
      ],
      "metadata": {
        "id": "bAvkWy-QpGMG"
      }
    },
    {
      "cell_type": "code",
      "source": [
        "data_dic = {}\n",
        "for ds in path2datasets:\n",
        "\n",
        "  temp_arr = []\n",
        "  for c_path in os.listdir(ds):\n",
        "\n",
        "    path = f'{ds}/{c_path}'\n",
        "    with open (path, 'r') as f:\n",
        "      temp_arr.append(f.read())\n",
        "  \n",
        "  data_dic[f\"{ds.replace('/content/aclImdb/', '').replace('/', '_')}\"] = temp_arr"
      ],
      "metadata": {
        "id": "cmk8UVHRjyo6"
      },
      "execution_count": 14,
      "outputs": []
    },
    {
      "cell_type": "code",
      "source": [
        "data_df = pd.DataFrame(data_dic)"
      ],
      "metadata": {
        "id": "jlI-pWcKpsw_"
      },
      "execution_count": 15,
      "outputs": []
    },
    {
      "cell_type": "code",
      "source": [
        "data_df"
      ],
      "metadata": {
        "colab": {
          "base_uri": "https://localhost:8080/",
          "height": 832
        },
        "id": "I_nQlkrzsIux",
        "outputId": "1595fe8b-343a-481e-c99b-46c1b07a26b2"
      },
      "execution_count": 16,
      "outputs": [
        {
          "output_type": "execute_result",
          "data": {
            "text/plain": [
              "                                                test_pos  \\\n",
              "0      Caution-possible spoilers ahead\n",
              ".. Just watche...   \n",
              "1      When I saw the first preview for this, I nearl...   \n",
              "2      The Beatles had just done 'Magical Mystery Tou...   \n",
              "3      Worst horror film ever but funniest film ever ...   \n",
              "4      The 20th animated Disney classic is often crit...   \n",
              "...                                                  ...   \n",
              "12495  Cary Elwes have to say puts on a better perfor...   \n",
              "12496  Screened this morning for the press at Roma fi...   \n",
              "12497  Most of the Brigitte Bardot movies I've seen h...   \n",
              "12498  For a kid's movie, this is great. As an adult ...   \n",
              "12499  RENDITION is a film not to miss with solid wri...   \n",
              "\n",
              "                                                test_neg  \\\n",
              "0      Just to save you the $3, or whatever it costs ...   \n",
              "1      I do not see what is the whole deal about this...   \n",
              "2      This movie is like porn with all of the good p...   \n",
              "3      OK we have 4 city electricians who find a mini...   \n",
              "4      I liked the understated character that Laura L...   \n",
              "...                                                  ...   \n",
              "12495  I saw this film when it first came out and hat...   \n",
              "12496  The Big Knife, a movie about the dark side of ...   \n",
              "12497  First of all, I'm upset there's no choice of a...   \n",
              "12498  So I was sick with the flu one Saturday and th...   \n",
              "12499  I turned this off within the first five minute...   \n",
              "\n",
              "                                               train_pos  \\\n",
              "0      And my children love it now! Granted, I can wa...   \n",
              "1      Post-feminist depiction of cruelty and sadism....   \n",
              "2      Genre: Dinosaur, animation, New York, time tra...   \n",
              "3      The events of September 11 2001 do not need ex...   \n",
              "4      So, every year there is at least one movie, th...   \n",
              "...                                                  ...   \n",
              "12495  I was drawn to DAN IN REAL LIFE from the excel...   \n",
              "12496  I had a personal interest in this movie. When ...   \n",
              "12497  I really enjoyed Girl Fight. It something I co...   \n",
              "12498  Initially, I would have thought that Secret Su...   \n",
              "12499  This movie has one of the cheesiest plots I ha...   \n",
              "\n",
              "                                               train_neg  \n",
              "0      When i saw the preview for this on TV i was th...  \n",
              "1      Della Myers (Kim Basinger) is an upper-class h...  \n",
              "2      this seemed an odd combination of Withnail and...  \n",
              "3      \"Land of Plenty\" is not a film. It is a tombst...  \n",
              "4      I saw this movie about 5 years ago, and the me...  \n",
              "...                                                  ...  \n",
              "12495  the author of the book, by the same title, sho...  \n",
              "12496  This, for lack of a better term, movie is lous...  \n",
              "12497  The plot line of No One Sleeps is not a bad id...  \n",
              "12498  This appalling film somehow saw the light of d...  \n",
              "12499  What happened to Peter Bogdanovich? Once a bri...  \n",
              "\n",
              "[12500 rows x 4 columns]"
            ],
            "text/html": [
              "\n",
              "  <div id=\"df-feeba3eb-14fe-4ce9-8d88-d1ef01263148\">\n",
              "    <div class=\"colab-df-container\">\n",
              "      <div>\n",
              "<style scoped>\n",
              "    .dataframe tbody tr th:only-of-type {\n",
              "        vertical-align: middle;\n",
              "    }\n",
              "\n",
              "    .dataframe tbody tr th {\n",
              "        vertical-align: top;\n",
              "    }\n",
              "\n",
              "    .dataframe thead th {\n",
              "        text-align: right;\n",
              "    }\n",
              "</style>\n",
              "<table border=\"1\" class=\"dataframe\">\n",
              "  <thead>\n",
              "    <tr style=\"text-align: right;\">\n",
              "      <th></th>\n",
              "      <th>test_pos</th>\n",
              "      <th>test_neg</th>\n",
              "      <th>train_pos</th>\n",
              "      <th>train_neg</th>\n",
              "    </tr>\n",
              "  </thead>\n",
              "  <tbody>\n",
              "    <tr>\n",
              "      <th>0</th>\n",
              "      <td>Caution-possible spoilers ahead.. Just watche...</td>\n",
              "      <td>Just to save you the $3, or whatever it costs ...</td>\n",
              "      <td>And my children love it now! Granted, I can wa...</td>\n",
              "      <td>When i saw the preview for this on TV i was th...</td>\n",
              "    </tr>\n",
              "    <tr>\n",
              "      <th>1</th>\n",
              "      <td>When I saw the first preview for this, I nearl...</td>\n",
              "      <td>I do not see what is the whole deal about this...</td>\n",
              "      <td>Post-feminist depiction of cruelty and sadism....</td>\n",
              "      <td>Della Myers (Kim Basinger) is an upper-class h...</td>\n",
              "    </tr>\n",
              "    <tr>\n",
              "      <th>2</th>\n",
              "      <td>The Beatles had just done 'Magical Mystery Tou...</td>\n",
              "      <td>This movie is like porn with all of the good p...</td>\n",
              "      <td>Genre: Dinosaur, animation, New York, time tra...</td>\n",
              "      <td>this seemed an odd combination of Withnail and...</td>\n",
              "    </tr>\n",
              "    <tr>\n",
              "      <th>3</th>\n",
              "      <td>Worst horror film ever but funniest film ever ...</td>\n",
              "      <td>OK we have 4 city electricians who find a mini...</td>\n",
              "      <td>The events of September 11 2001 do not need ex...</td>\n",
              "      <td>\"Land of Plenty\" is not a film. It is a tombst...</td>\n",
              "    </tr>\n",
              "    <tr>\n",
              "      <th>4</th>\n",
              "      <td>The 20th animated Disney classic is often crit...</td>\n",
              "      <td>I liked the understated character that Laura L...</td>\n",
              "      <td>So, every year there is at least one movie, th...</td>\n",
              "      <td>I saw this movie about 5 years ago, and the me...</td>\n",
              "    </tr>\n",
              "    <tr>\n",
              "      <th>...</th>\n",
              "      <td>...</td>\n",
              "      <td>...</td>\n",
              "      <td>...</td>\n",
              "      <td>...</td>\n",
              "    </tr>\n",
              "    <tr>\n",
              "      <th>12495</th>\n",
              "      <td>Cary Elwes have to say puts on a better perfor...</td>\n",
              "      <td>I saw this film when it first came out and hat...</td>\n",
              "      <td>I was drawn to DAN IN REAL LIFE from the excel...</td>\n",
              "      <td>the author of the book, by the same title, sho...</td>\n",
              "    </tr>\n",
              "    <tr>\n",
              "      <th>12496</th>\n",
              "      <td>Screened this morning for the press at Roma fi...</td>\n",
              "      <td>The Big Knife, a movie about the dark side of ...</td>\n",
              "      <td>I had a personal interest in this movie. When ...</td>\n",
              "      <td>This, for lack of a better term, movie is lous...</td>\n",
              "    </tr>\n",
              "    <tr>\n",
              "      <th>12497</th>\n",
              "      <td>Most of the Brigitte Bardot movies I've seen h...</td>\n",
              "      <td>First of all, I'm upset there's no choice of a...</td>\n",
              "      <td>I really enjoyed Girl Fight. It something I co...</td>\n",
              "      <td>The plot line of No One Sleeps is not a bad id...</td>\n",
              "    </tr>\n",
              "    <tr>\n",
              "      <th>12498</th>\n",
              "      <td>For a kid's movie, this is great. As an adult ...</td>\n",
              "      <td>So I was sick with the flu one Saturday and th...</td>\n",
              "      <td>Initially, I would have thought that Secret Su...</td>\n",
              "      <td>This appalling film somehow saw the light of d...</td>\n",
              "    </tr>\n",
              "    <tr>\n",
              "      <th>12499</th>\n",
              "      <td>RENDITION is a film not to miss with solid wri...</td>\n",
              "      <td>I turned this off within the first five minute...</td>\n",
              "      <td>This movie has one of the cheesiest plots I ha...</td>\n",
              "      <td>What happened to Peter Bogdanovich? Once a bri...</td>\n",
              "    </tr>\n",
              "  </tbody>\n",
              "</table>\n",
              "<p>12500 rows × 4 columns</p>\n",
              "</div>\n",
              "      <button class=\"colab-df-convert\" onclick=\"convertToInteractive('df-feeba3eb-14fe-4ce9-8d88-d1ef01263148')\"\n",
              "              title=\"Convert this dataframe to an interactive table.\"\n",
              "              style=\"display:none;\">\n",
              "        \n",
              "  <svg xmlns=\"http://www.w3.org/2000/svg\" height=\"24px\"viewBox=\"0 0 24 24\"\n",
              "       width=\"24px\">\n",
              "    <path d=\"M0 0h24v24H0V0z\" fill=\"none\"/>\n",
              "    <path d=\"M18.56 5.44l.94 2.06.94-2.06 2.06-.94-2.06-.94-.94-2.06-.94 2.06-2.06.94zm-11 1L8.5 8.5l.94-2.06 2.06-.94-2.06-.94L8.5 2.5l-.94 2.06-2.06.94zm10 10l.94 2.06.94-2.06 2.06-.94-2.06-.94-.94-2.06-.94 2.06-2.06.94z\"/><path d=\"M17.41 7.96l-1.37-1.37c-.4-.4-.92-.59-1.43-.59-.52 0-1.04.2-1.43.59L10.3 9.45l-7.72 7.72c-.78.78-.78 2.05 0 2.83L4 21.41c.39.39.9.59 1.41.59.51 0 1.02-.2 1.41-.59l7.78-7.78 2.81-2.81c.8-.78.8-2.07 0-2.86zM5.41 20L4 18.59l7.72-7.72 1.47 1.35L5.41 20z\"/>\n",
              "  </svg>\n",
              "      </button>\n",
              "      \n",
              "  <style>\n",
              "    .colab-df-container {\n",
              "      display:flex;\n",
              "      flex-wrap:wrap;\n",
              "      gap: 12px;\n",
              "    }\n",
              "\n",
              "    .colab-df-convert {\n",
              "      background-color: #E8F0FE;\n",
              "      border: none;\n",
              "      border-radius: 50%;\n",
              "      cursor: pointer;\n",
              "      display: none;\n",
              "      fill: #1967D2;\n",
              "      height: 32px;\n",
              "      padding: 0 0 0 0;\n",
              "      width: 32px;\n",
              "    }\n",
              "\n",
              "    .colab-df-convert:hover {\n",
              "      background-color: #E2EBFA;\n",
              "      box-shadow: 0px 1px 2px rgba(60, 64, 67, 0.3), 0px 1px 3px 1px rgba(60, 64, 67, 0.15);\n",
              "      fill: #174EA6;\n",
              "    }\n",
              "\n",
              "    [theme=dark] .colab-df-convert {\n",
              "      background-color: #3B4455;\n",
              "      fill: #D2E3FC;\n",
              "    }\n",
              "\n",
              "    [theme=dark] .colab-df-convert:hover {\n",
              "      background-color: #434B5C;\n",
              "      box-shadow: 0px 1px 3px 1px rgba(0, 0, 0, 0.15);\n",
              "      filter: drop-shadow(0px 1px 2px rgba(0, 0, 0, 0.3));\n",
              "      fill: #FFFFFF;\n",
              "    }\n",
              "  </style>\n",
              "\n",
              "      <script>\n",
              "        const buttonEl =\n",
              "          document.querySelector('#df-feeba3eb-14fe-4ce9-8d88-d1ef01263148 button.colab-df-convert');\n",
              "        buttonEl.style.display =\n",
              "          google.colab.kernel.accessAllowed ? 'block' : 'none';\n",
              "\n",
              "        async function convertToInteractive(key) {\n",
              "          const element = document.querySelector('#df-feeba3eb-14fe-4ce9-8d88-d1ef01263148');\n",
              "          const dataTable =\n",
              "            await google.colab.kernel.invokeFunction('convertToInteractive',\n",
              "                                                     [key], {});\n",
              "          if (!dataTable) return;\n",
              "\n",
              "          const docLinkHtml = 'Like what you see? Visit the ' +\n",
              "            '<a target=\"_blank\" href=https://colab.research.google.com/notebooks/data_table.ipynb>data table notebook</a>'\n",
              "            + ' to learn more about interactive tables.';\n",
              "          element.innerHTML = '';\n",
              "          dataTable['output_type'] = 'display_data';\n",
              "          await google.colab.output.renderOutput(dataTable, element);\n",
              "          const docLink = document.createElement('div');\n",
              "          docLink.innerHTML = docLinkHtml;\n",
              "          element.appendChild(docLink);\n",
              "        }\n",
              "      </script>\n",
              "    </div>\n",
              "  </div>\n",
              "  "
            ]
          },
          "metadata": {},
          "execution_count": 16
        }
      ]
    },
    {
      "cell_type": "code",
      "source": [
        "pos = np.array(data_df.iloc[:2, 2])\n",
        "neg = np.array(data_df.iloc[:2, 3])"
      ],
      "metadata": {
        "id": "vzKgafLn1GWP"
      },
      "execution_count": 68,
      "outputs": []
    },
    {
      "cell_type": "code",
      "source": [
        "pos"
      ],
      "metadata": {
        "colab": {
          "base_uri": "https://localhost:8080/"
        },
        "id": "-Qkxf-8egmWl",
        "outputId": "53142fb0-00cb-42fa-adb5-d4e9dbca85c6"
      },
      "execution_count": 69,
      "outputs": [
        {
          "output_type": "execute_result",
          "data": {
            "text/plain": [
              "array(['And my children love it now! Granted, I can watch it now and realize the animation wasn\\'t that great, and that the plot is trite. Hey, if every villian introduced themselves by saying \"I ammmmm DAAAARRRKK HEEEEAAARRT\" I think they might be laughed at, but for young children it is a moral story with catchy music.<br /><br />Music so catchy, mind you, that I still had the words memorized after not seeing this film in twenty years. I would definitely suggest this one for younger children.',\n",
              "       \"Post-feminist depiction of cruelty and sadism.<br /><br />Spoiler alert! <br /><br />This underrated gem of a film tells the story of Flavia, a Fifteenth Century girl of Noble birth walled up in a convent after defining her father and indeed the whole of Medieval Christian society by viewing a fallen Islamic warrior as a human rather than demonic figure.<br /><br />Unable to accept the patriarchal rule of the convent (explicitly stated in a scene where the Bishop arrives flanked by soldiers and monks) Flavia begins to explicitly question the society in which she finds herself and, through butting up against a whole system of subjugation, repression and violence, inevitably brings a tragic end not only to herself but all those around her.<br /><br />Billed as a piece of nunsploitation this is far from the truth. This is a film depiction the consequences of violence, the effects of patriarchal dominance, the nature of rebellion and the corruption of the human spirit.<br /><br />I described it in the title of this piece as 'post-feminist' and in the end Flavia's triumphs must always be corrupted, compromised and perverted by men. Even Flavia's gruesome end is perpetrated by men for men (the women turn away and only the monks look on without horror.<br /><br />As to the much discussed violence: this is a depiction of the effects of violence and the horrors of a world driven mad by religious excess. To have shied away from the violence would have limited the film's impact, would have cheapened the film and allowed it to be assimilated within the Patriarchal discourse it is exposing. In addition it is a realistic portrait of medieval society.<br /><br />Beautifully filmed, brilliantly acted (notably by Florinda Bolkin and Maria Casares), containing a wonderful score by piovani and still challenging after all these years Flavia is a classic of European Cinema.\"],\n",
              "      dtype=object)"
            ]
          },
          "metadata": {},
          "execution_count": 69
        }
      ]
    },
    {
      "cell_type": "code",
      "source": [
        "neg"
      ],
      "metadata": {
        "colab": {
          "base_uri": "https://localhost:8080/"
        },
        "id": "zlVbK4lcl9WB",
        "outputId": "d8784ce3-0658-4791-80fe-3603fb12bedc"
      },
      "execution_count": 71,
      "outputs": [
        {
          "output_type": "execute_result",
          "data": {
            "text/plain": [
              "array(['When i saw the preview for this on TV i was thinking, \"ok its gonna be a good werewolf movie\" but it was not. it was not scary at all! acting was good, plot was horrible, the military bid was just plain stupid. I think the SCI-FI channel could of done better than this piece of crap. The movie made it sound like Arron was going to turn into a werewolf, instead he turned psycho and bit some doctor\\'s throat out. If you have read some of my other reviews on other movies, there all positive, but this one is not simply because the story was terrible. One out of 10 max. Im sure you all were expecting some werewolf flick, but i bet you didn\\'t expect this. Beyond Loch Nes was way better than this movie, heck, any movie thats on the sci-fi channel is better than this movie.',\n",
              "       'Della Myers (Kim Basinger) is an upper-class housewife that lives in a private condominium in the suburbs with her twin children and her abusive husband Kenneth (Craig Sheffer). Della gives all the attention to the twins, neglecting their house and her appearance and upsetting Kenneth. On the Christmas Eve, she drives to the local mall in the night to buy wrapping paper for the gifts, and she does not find any parking space available. When she sees an old car parked on two spots, she leaves a message to the owner calling him \"selfish jerk\". When the mall closes, Della\\'s car is hold by the driver of the old car and she is threatened by four punks \\x96 Chuckie (Lukas Haas), the Afro-American Huey (Jamie Starr), the Chinese-American Vingh (Leonard Wu) and the Latin Tomás (Luis Chávez). When the security guard of the mall protects her, he is shot on the head by Chuckie, Della speeds up her car trying to escape from the criminals. However she crashes her truck nearby a forest while chased by the gang. She takes the toolbox and hides in the wood, fighting against the gang to survive.<br /><br />A couple of days ago, I saw the trailer of \"While She Was Out\" and I was anxious to watch the DVD. Unfortunately the trailer is better than the movie, and I am totally disappointed with this dull and implausible collection of clichés. Della Myers is presented as an insecure and neglectful housewife and inexistent as wife; the motherhood is her only interest in her concept of family. She is chased by four mean criminals but she defeats them with a toolbox that seems to be the Batman\\'s utility belt. Therefore, the plot is so absurd that irritates. The gang of criminals is formed by the favorite cliché of American movies, with an Afro-American, a Chinese-American and a Latin together with an American lord to be politically correct. Kim Basinger has a decent acting, but their children are too young for a fifty-five year-old woman. My vote is four.<br /><br />Title (Brazil): \"Enquanto Ela Está Fora\" (\"While She Was Out\")'],\n",
              "      dtype=object)"
            ]
          },
          "metadata": {},
          "execution_count": 71
        }
      ]
    },
    {
      "cell_type": "code",
      "source": [
        "def del_urls_handles(sentence):\n",
        "  \n",
        "  for url in ['@', 'https://']:\n",
        "    ind = 0\n",
        "    while ind != -1:\n",
        "      ind = sentence.find(url)\n",
        "      end = sentence.find(' ', ind)\n",
        "      sentence = sentence.replace(sentence[ind: end], '')\n",
        "  return sentence"
      ],
      "metadata": {
        "id": "K_SYpGqx2gps"
      },
      "execution_count": 199,
      "outputs": []
    },
    {
      "cell_type": "code",
      "source": [
        "del_urls_handles(pos[0])"
      ],
      "metadata": {
        "colab": {
          "base_uri": "https://localhost:8080/",
          "height": 122
        },
        "id": "8WnsF54r8NXM",
        "outputId": "58d50be2-2efc-4525-db29-9daf4bb22571"
      },
      "execution_count": 200,
      "outputs": [
        {
          "output_type": "execute_result",
          "data": {
            "text/plain": [
              "'And my children love it now! Granted, I can watch it now and realize the animation wasn\\'t that great, and that the plot is trite. Hey, if every villian introduced themselves by saying \"I ammmmm DAAAARRRKK HEEEEAAARRT\" I think they might be laughed at, but for young children it is a moral story with catchy music.<br /><br />Music so catchy, mind you, that I still had the words memorized after not seeing this film in twenty years. I would definitely suggest this one for younger children.'"
            ],
            "application/vnd.google.colaboratory.intrinsic+json": {
              "type": "string"
            }
          },
          "metadata": {},
          "execution_count": 200
        }
      ]
    },
    {
      "cell_type": "code",
      "source": [
        "def del_punctuations(sentence):\n",
        "  temp = ''\n",
        "  for char in sentence:\n",
        "    if char.isalnum() or char.isspace():\n",
        "      temp  = temp + char\n",
        "  return temp.lower()"
      ],
      "metadata": {
        "id": "mNySIe3TkCit"
      },
      "execution_count": 67,
      "outputs": []
    },
    {
      "cell_type": "code",
      "source": [
        "del_punctuations(pos[0])"
      ],
      "metadata": {
        "colab": {
          "base_uri": "https://localhost:8080/",
          "height": 122
        },
        "id": "w0pqCEK-lkg4",
        "outputId": "72fd9a73-6982-47d4-9954-f7ff90d5780f"
      },
      "execution_count": 66,
      "outputs": [
        {
          "output_type": "execute_result",
          "data": {
            "text/plain": [
              "'and my children love it now granted i can watch it now and realize the animation wasnt that great and that the plot is trite hey if every villian introduced themselves by saying i ammmmm daaaarrrkk heeeeaaarrt i think they might be laughed at but for young children it is a moral story with catchy musicbr br music so catchy mind you that i still had the words memorized after not seeing this film in twenty years i would definitely suggest this one for younger children'"
            ],
            "application/vnd.google.colaboratory.intrinsic+json": {
              "type": "string"
            }
          },
          "metadata": {},
          "execution_count": 66
        }
      ]
    },
    {
      "cell_type": "code",
      "source": [
        "pr_pos = [del_punctuations(del_urls_handles(p)) for p in pos]\n",
        "pr_neg = [del_punctuations(del_urls_handles(n)) for n in neg]"
      ],
      "metadata": {
        "id": "LwOqjGtthwAi"
      },
      "execution_count": 201,
      "outputs": []
    },
    {
      "cell_type": "code",
      "source": [
        "pr_pos"
      ],
      "metadata": {
        "colab": {
          "base_uri": "https://localhost:8080/"
        },
        "id": "u0Tt0dHA3Klv",
        "outputId": "312f7b94-a97b-4677-8412-ca8f527d8441"
      },
      "execution_count": 202,
      "outputs": [
        {
          "output_type": "execute_result",
          "data": {
            "text/plain": [
              "['and my children love it now granted i can watch it now and realize the animation wasnt that great and that the plot is trite hey if every villian introduced themselves by saying i ammmmm daaaarrrkk heeeeaaarrt i think they might be laughed at but for young children it is a moral story with catchy musicbr br music so catchy mind you that i still had the words memorized after not seeing this film in twenty years i would definitely suggest this one for younger children',\n",
              " 'postfeminist depiction of cruelty and sadismbr br spoiler alert br br this underrated gem of a film tells the story of flavia a fifteenth century girl of noble birth walled up in a convent after defining her father and indeed the whole of medieval christian society by viewing a fallen islamic warrior as a human rather than demonic figurebr br unable to accept the patriarchal rule of the convent explicitly stated in a scene where the bishop arrives flanked by soldiers and monks flavia begins to explicitly question the society in which she finds herself and through butting up against a whole system of subjugation repression and violence inevitably brings a tragic end not only to herself but all those around herbr br billed as a piece of nunsploitation this is far from the truth this is a film depiction the consequences of violence the effects of patriarchal dominance the nature of rebellion and the corruption of the human spiritbr br i described it in the title of this piece as postfeminist and in the end flavias triumphs must always be corrupted compromised and perverted by men even flavias gruesome end is perpetrated by men for men the women turn away and only the monks look on without horrorbr br as to the much discussed violence this is a depiction of the effects of violence and the horrors of a world driven mad by religious excess to have shied away from the violence would have limited the films impact would have cheapened the film and allowed it to be assimilated within the patriarchal discourse it is exposing in addition it is a realistic portrait of medieval societybr br beautifully filmed brilliantly acted notably by florinda bolkin and maria casares containing a wonderful score by piovani and still challenging after all these years flavia is a classic of european cinema']"
            ]
          },
          "metadata": {},
          "execution_count": 202
        }
      ]
    },
    {
      "cell_type": "code",
      "source": [
        "pr_neg"
      ],
      "metadata": {
        "colab": {
          "base_uri": "https://localhost:8080/"
        },
        "id": "RwCPGCdTBmfO",
        "outputId": "1560e28a-d088-4c8e-d45f-44f97da946b2"
      },
      "execution_count": 203,
      "outputs": [
        {
          "output_type": "execute_result",
          "data": {
            "text/plain": [
              "['when i saw the preview for this on tv i was thinking ok its gonna be a good werewolf movie but it was not it was not scary at all acting was good plot was horrible the military bid was just plain stupid i think the scifi channel could of done better than this piece of crap the movie made it sound like arron was going to turn into a werewolf instead he turned psycho and bit some doctors throat out if you have read some of my other reviews on other movies there all positive but this one is not simply because the story was terrible one out of 10 max im sure you all were expecting some werewolf flick but i bet you didnt expect this beyond loch nes was way better than this movie heck any movie thats on the scifi channel is better than this movie',\n",
              " 'della myers kim basinger is an upperclass housewife that lives in a private condominium in the suburbs with her twin children and her abusive husband kenneth craig sheffer della gives all the attention to the twins neglecting their house and her appearance and upsetting kenneth on the christmas eve she drives to the local mall in the night to buy wrapping paper for the gifts and she does not find any parking space available when she sees an old car parked on two spots she leaves a message to the owner calling him selfish jerk when the mall closes dellas car is hold by the driver of the old car and she is threatened by four punks  chuckie lukas haas the afroamerican huey jamie starr the chineseamerican vingh leonard wu and the latin tomás luis chávez when the security guard of the mall protects her he is shot on the head by chuckie della speeds up her car trying to escape from the criminals however she crashes her truck nearby a forest while chased by the gang she takes the toolbox and hides in the wood fighting against the gang to survivebr br a couple of days ago i saw the trailer of while she was out and i was anxious to watch the dvd unfortunately the trailer is better than the movie and i am totally disappointed with this dull and implausible collection of clichés della myers is presented as an insecure and neglectful housewife and inexistent as wife the motherhood is her only interest in her concept of family she is chased by four mean criminals but she defeats them with a toolbox that seems to be the batmans utility belt therefore the plot is so absurd that irritates the gang of criminals is formed by the favorite cliché of american movies with an afroamerican a chineseamerican and a latin together with an american lord to be politically correct kim basinger has a decent acting but their children are too young for a fiftyfive yearold woman my vote is fourbr br title brazil enquanto ela está fora while she was out']"
            ]
          },
          "metadata": {},
          "execution_count": 203
        }
      ]
    },
    {
      "cell_type": "code",
      "source": [
        "stop_words = ['i', 'am', 'and', 'was', 'that', 'the', 'you', 'he', 'she', 'we', 'they', 'were', 'of', 'too', 'them', 'are']\n",
        "#These words o"
      ],
      "metadata": {
        "id": "a7o8dnpfEhad"
      },
      "execution_count": 246,
      "outputs": []
    },
    {
      "cell_type": "code",
      "source": [
        "def get_vocabulary(pos, neg):\n",
        "  vocab, pos_words, neg_words = [], [], []\n",
        "  for id, ds in enumerate([pos, neg]):\n",
        "    for sentence in ds:\n",
        "      for word in sentence.split():\n",
        "\n",
        "        if word not in stop_words:\n",
        "          if id == 0:\n",
        "            pos_words.append(word)\n",
        "          else:\n",
        "            neg_words.append(word)\n",
        "\n",
        "          vocab.append(word)\n",
        "\n",
        "  return set(vocab), pos_words, neg_words"
      ],
      "metadata": {
        "id": "qHuVMiSbBpUW"
      },
      "execution_count": 323,
      "outputs": []
    },
    {
      "cell_type": "code",
      "source": [
        "vocab, pos_words, neg_words = get_vocabulary(pr_pos, pr_neg)\n",
        "len(vocab)"
      ],
      "metadata": {
        "colab": {
          "base_uri": "https://localhost:8080/"
        },
        "id": "OKCaAmJsCc8z",
        "outputId": "258d98c1-4a6d-48d1-acc9-f263c8a4052b"
      },
      "execution_count": 324,
      "outputs": [
        {
          "output_type": "execute_result",
          "data": {
            "text/plain": [
              "419"
            ]
          },
          "metadata": {},
          "execution_count": 324
        }
      ]
    },
    {
      "cell_type": "code",
      "source": [
        "def frequency_dict(vocab, pos, neg):\n",
        "  vocab_dict = {}\n",
        "  for v in vocab:\n",
        "    vocab_dict[v] = [pos.count(v), neg.count(v)]\n",
        "  return vocab_dict"
      ],
      "metadata": {
        "id": "ONtALBLNChK_"
      },
      "execution_count": 325,
      "outputs": []
    },
    {
      "cell_type": "code",
      "source": [
        "freq_dict=frequency_dict(vocab, pos_words, neg_words)"
      ],
      "metadata": {
        "id": "MOWej-KmUd7E"
      },
      "execution_count": 326,
      "outputs": []
    },
    {
      "cell_type": "code",
      "source": [
        "freq_dict"
      ],
      "metadata": {
        "colab": {
          "base_uri": "https://localhost:8080/"
        },
        "id": "gCgFChkYVomh",
        "outputId": "006c4122-da48-4647-9bb2-e461e7ca6e7e"
      },
      "execution_count": 327,
      "outputs": [
        {
          "output_type": "execute_result",
          "data": {
            "text/plain": [
              "{'10': [0, 1],\n",
              " 'a': [16, 11],\n",
              " 'absurd': [0, 1],\n",
              " 'abusive': [0, 1],\n",
              " 'accept': [1, 0],\n",
              " 'acted': [1, 0],\n",
              " 'acting': [0, 2],\n",
              " 'addition': [1, 0],\n",
              " 'afroamerican': [0, 2],\n",
              " 'after': [3, 0],\n",
              " 'against': [1, 1],\n",
              " 'ago': [0, 1],\n",
              " 'alert': [1, 0],\n",
              " 'all': [2, 4],\n",
              " 'allowed': [1, 0],\n",
              " 'always': [1, 0],\n",
              " 'american': [0, 2],\n",
              " 'ammmmm': [1, 0],\n",
              " 'an': [0, 5],\n",
              " 'animation': [1, 0],\n",
              " 'anxious': [0, 1],\n",
              " 'any': [0, 2],\n",
              " 'appearance': [0, 1],\n",
              " 'around': [1, 0],\n",
              " 'arrives': [1, 0],\n",
              " 'arron': [0, 1],\n",
              " 'as': [4, 2],\n",
              " 'assimilated': [1, 0],\n",
              " 'at': [1, 1],\n",
              " 'attention': [0, 1],\n",
              " 'available': [0, 1],\n",
              " 'away': [2, 0],\n",
              " 'basinger': [0, 2],\n",
              " 'batmans': [0, 1],\n",
              " 'be': [3, 3],\n",
              " 'beautifully': [1, 0],\n",
              " 'because': [0, 1],\n",
              " 'begins': [1, 0],\n",
              " 'belt': [0, 1],\n",
              " 'bet': [0, 1],\n",
              " 'better': [0, 4],\n",
              " 'beyond': [0, 1],\n",
              " 'bid': [0, 1],\n",
              " 'billed': [1, 0],\n",
              " 'birth': [1, 0],\n",
              " 'bishop': [1, 0],\n",
              " 'bit': [0, 1],\n",
              " 'bolkin': [1, 0],\n",
              " 'br': [9, 2],\n",
              " 'brazil': [0, 1],\n",
              " 'brilliantly': [1, 0],\n",
              " 'brings': [1, 0],\n",
              " 'but': [2, 5],\n",
              " 'butting': [1, 0],\n",
              " 'buy': [0, 1],\n",
              " 'by': [8, 6],\n",
              " 'calling': [0, 1],\n",
              " 'can': [1, 0],\n",
              " 'car': [0, 4],\n",
              " 'casares': [1, 0],\n",
              " 'catchy': [2, 0],\n",
              " 'century': [1, 0],\n",
              " 'challenging': [1, 0],\n",
              " 'channel': [0, 2],\n",
              " 'chased': [0, 2],\n",
              " 'cheapened': [1, 0],\n",
              " 'children': [3, 2],\n",
              " 'chineseamerican': [0, 2],\n",
              " 'christian': [1, 0],\n",
              " 'christmas': [0, 1],\n",
              " 'chuckie': [0, 2],\n",
              " 'chávez': [0, 1],\n",
              " 'cinema': [1, 0],\n",
              " 'classic': [1, 0],\n",
              " 'cliché': [0, 1],\n",
              " 'clichés': [0, 1],\n",
              " 'closes': [0, 1],\n",
              " 'collection': [0, 1],\n",
              " 'compromised': [1, 0],\n",
              " 'concept': [0, 1],\n",
              " 'condominium': [0, 1],\n",
              " 'consequences': [1, 0],\n",
              " 'containing': [1, 0],\n",
              " 'convent': [2, 0],\n",
              " 'correct': [0, 1],\n",
              " 'corrupted': [1, 0],\n",
              " 'corruption': [1, 0],\n",
              " 'could': [0, 1],\n",
              " 'couple': [0, 1],\n",
              " 'craig': [0, 1],\n",
              " 'crap': [0, 1],\n",
              " 'crashes': [0, 1],\n",
              " 'criminals': [0, 3],\n",
              " 'cruelty': [1, 0],\n",
              " 'daaaarrrkk': [1, 0],\n",
              " 'days': [0, 1],\n",
              " 'decent': [0, 1],\n",
              " 'defeats': [0, 1],\n",
              " 'defining': [1, 0],\n",
              " 'definitely': [1, 0],\n",
              " 'della': [0, 4],\n",
              " 'dellas': [0, 1],\n",
              " 'demonic': [1, 0],\n",
              " 'depiction': [3, 0],\n",
              " 'described': [1, 0],\n",
              " 'didnt': [0, 1],\n",
              " 'disappointed': [0, 1],\n",
              " 'discourse': [1, 0],\n",
              " 'discussed': [1, 0],\n",
              " 'doctors': [0, 1],\n",
              " 'does': [0, 1],\n",
              " 'dominance': [1, 0],\n",
              " 'done': [0, 1],\n",
              " 'driven': [1, 0],\n",
              " 'driver': [0, 1],\n",
              " 'drives': [0, 1],\n",
              " 'dull': [0, 1],\n",
              " 'dvd': [0, 1],\n",
              " 'effects': [2, 0],\n",
              " 'ela': [0, 1],\n",
              " 'end': [3, 0],\n",
              " 'enquanto': [0, 1],\n",
              " 'escape': [0, 1],\n",
              " 'está': [0, 1],\n",
              " 'european': [1, 0],\n",
              " 'eve': [0, 1],\n",
              " 'even': [1, 0],\n",
              " 'every': [1, 0],\n",
              " 'excess': [1, 0],\n",
              " 'expect': [0, 1],\n",
              " 'expecting': [0, 1],\n",
              " 'explicitly': [2, 0],\n",
              " 'exposing': [1, 0],\n",
              " 'fallen': [1, 0],\n",
              " 'family': [0, 1],\n",
              " 'far': [1, 0],\n",
              " 'father': [1, 0],\n",
              " 'favorite': [0, 1],\n",
              " 'fifteenth': [1, 0],\n",
              " 'fiftyfive': [0, 1],\n",
              " 'fighting': [0, 1],\n",
              " 'figurebr': [1, 0],\n",
              " 'film': [4, 0],\n",
              " 'filmed': [1, 0],\n",
              " 'films': [1, 0],\n",
              " 'find': [0, 1],\n",
              " 'finds': [1, 0],\n",
              " 'flanked': [1, 0],\n",
              " 'flavia': [3, 0],\n",
              " 'flavias': [2, 0],\n",
              " 'flick': [0, 1],\n",
              " 'florinda': [1, 0],\n",
              " 'for': [3, 3],\n",
              " 'fora': [0, 1],\n",
              " 'forest': [0, 1],\n",
              " 'formed': [0, 1],\n",
              " 'four': [0, 2],\n",
              " 'fourbr': [0, 1],\n",
              " 'from': [2, 1],\n",
              " 'gang': [0, 3],\n",
              " 'gem': [1, 0],\n",
              " 'gifts': [0, 1],\n",
              " 'girl': [1, 0],\n",
              " 'gives': [0, 1],\n",
              " 'going': [0, 1],\n",
              " 'gonna': [0, 1],\n",
              " 'good': [0, 2],\n",
              " 'granted': [1, 0],\n",
              " 'great': [1, 0],\n",
              " 'gruesome': [1, 0],\n",
              " 'guard': [0, 1],\n",
              " 'haas': [0, 1],\n",
              " 'had': [1, 0],\n",
              " 'has': [0, 1],\n",
              " 'have': [3, 1],\n",
              " 'head': [0, 1],\n",
              " 'heck': [0, 1],\n",
              " 'heeeeaaarrt': [1, 0],\n",
              " 'her': [1, 8],\n",
              " 'herbr': [1, 0],\n",
              " 'herself': [2, 0],\n",
              " 'hey': [1, 0],\n",
              " 'hides': [0, 1],\n",
              " 'him': [0, 1],\n",
              " 'hold': [0, 1],\n",
              " 'horrible': [0, 1],\n",
              " 'horrorbr': [1, 0],\n",
              " 'horrors': [1, 0],\n",
              " 'house': [0, 1],\n",
              " 'housewife': [0, 2],\n",
              " 'however': [0, 1],\n",
              " 'huey': [0, 1],\n",
              " 'human': [2, 0],\n",
              " 'husband': [0, 1],\n",
              " 'if': [1, 1],\n",
              " 'im': [0, 1],\n",
              " 'impact': [1, 0],\n",
              " 'implausible': [0, 1],\n",
              " 'in': [7, 5],\n",
              " 'indeed': [1, 0],\n",
              " 'inevitably': [1, 0],\n",
              " 'inexistent': [0, 1],\n",
              " 'insecure': [0, 1],\n",
              " 'instead': [0, 1],\n",
              " 'interest': [0, 1],\n",
              " 'into': [0, 1],\n",
              " 'introduced': [1, 0],\n",
              " 'irritates': [0, 1],\n",
              " 'is': [9, 13],\n",
              " 'islamic': [1, 0],\n",
              " 'it': [7, 3],\n",
              " 'its': [0, 1],\n",
              " 'jamie': [0, 1],\n",
              " 'jerk': [0, 1],\n",
              " 'just': [0, 1],\n",
              " 'kenneth': [0, 2],\n",
              " 'kim': [0, 2],\n",
              " 'latin': [0, 2],\n",
              " 'laughed': [1, 0],\n",
              " 'leaves': [0, 1],\n",
              " 'leonard': [0, 1],\n",
              " 'like': [0, 1],\n",
              " 'limited': [1, 0],\n",
              " 'lives': [0, 1],\n",
              " 'local': [0, 1],\n",
              " 'loch': [0, 1],\n",
              " 'look': [1, 0],\n",
              " 'lord': [0, 1],\n",
              " 'love': [1, 0],\n",
              " 'luis': [0, 1],\n",
              " 'lukas': [0, 1],\n",
              " 'mad': [1, 0],\n",
              " 'made': [0, 1],\n",
              " 'mall': [0, 3],\n",
              " 'maria': [1, 0],\n",
              " 'max': [0, 1],\n",
              " 'mean': [0, 1],\n",
              " 'medieval': [2, 0],\n",
              " 'memorized': [1, 0],\n",
              " 'men': [3, 0],\n",
              " 'message': [0, 1],\n",
              " 'might': [1, 0],\n",
              " 'military': [0, 1],\n",
              " 'mind': [1, 0],\n",
              " 'monks': [2, 0],\n",
              " 'moral': [1, 0],\n",
              " 'motherhood': [0, 1],\n",
              " 'movie': [0, 6],\n",
              " 'movies': [0, 2],\n",
              " 'much': [1, 0],\n",
              " 'music': [1, 0],\n",
              " 'musicbr': [1, 0],\n",
              " 'must': [1, 0],\n",
              " 'my': [1, 2],\n",
              " 'myers': [0, 2],\n",
              " 'nature': [1, 0],\n",
              " 'nearby': [0, 1],\n",
              " 'neglectful': [0, 1],\n",
              " 'neglecting': [0, 1],\n",
              " 'nes': [0, 1],\n",
              " 'night': [0, 1],\n",
              " 'noble': [1, 0],\n",
              " 'not': [2, 4],\n",
              " 'notably': [1, 0],\n",
              " 'now': [2, 0],\n",
              " 'nunsploitation': [1, 0],\n",
              " 'ok': [0, 1],\n",
              " 'old': [0, 2],\n",
              " 'on': [1, 6],\n",
              " 'one': [1, 2],\n",
              " 'only': [2, 1],\n",
              " 'other': [0, 2],\n",
              " 'out': [0, 4],\n",
              " 'owner': [0, 1],\n",
              " 'paper': [0, 1],\n",
              " 'parked': [0, 1],\n",
              " 'parking': [0, 1],\n",
              " 'patriarchal': [3, 0],\n",
              " 'perpetrated': [1, 0],\n",
              " 'perverted': [1, 0],\n",
              " 'piece': [2, 1],\n",
              " 'piovani': [1, 0],\n",
              " 'plain': [0, 1],\n",
              " 'plot': [1, 2],\n",
              " 'politically': [0, 1],\n",
              " 'portrait': [1, 0],\n",
              " 'positive': [0, 1],\n",
              " 'postfeminist': [2, 0],\n",
              " 'presented': [0, 1],\n",
              " 'preview': [0, 1],\n",
              " 'private': [0, 1],\n",
              " 'protects': [0, 1],\n",
              " 'psycho': [0, 1],\n",
              " 'punks': [0, 1],\n",
              " 'question': [1, 0],\n",
              " 'rather': [1, 0],\n",
              " 'read': [0, 1],\n",
              " 'realistic': [1, 0],\n",
              " 'realize': [1, 0],\n",
              " 'rebellion': [1, 0],\n",
              " 'religious': [1, 0],\n",
              " 'repression': [1, 0],\n",
              " 'reviews': [0, 1],\n",
              " 'rule': [1, 0],\n",
              " 'sadismbr': [1, 0],\n",
              " 'saw': [0, 2],\n",
              " 'saying': [1, 0],\n",
              " 'scary': [0, 1],\n",
              " 'scene': [1, 0],\n",
              " 'scifi': [0, 2],\n",
              " 'score': [1, 0],\n",
              " 'security': [0, 1],\n",
              " 'seeing': [1, 0],\n",
              " 'seems': [0, 1],\n",
              " 'sees': [0, 1],\n",
              " 'selfish': [0, 1],\n",
              " 'sheffer': [0, 1],\n",
              " 'shied': [1, 0],\n",
              " 'shot': [0, 1],\n",
              " 'simply': [0, 1],\n",
              " 'so': [1, 1],\n",
              " 'society': [2, 0],\n",
              " 'societybr': [1, 0],\n",
              " 'soldiers': [1, 0],\n",
              " 'some': [0, 3],\n",
              " 'sound': [0, 1],\n",
              " 'space': [0, 1],\n",
              " 'speeds': [0, 1],\n",
              " 'spiritbr': [1, 0],\n",
              " 'spoiler': [1, 0],\n",
              " 'spots': [0, 1],\n",
              " 'starr': [0, 1],\n",
              " 'stated': [1, 0],\n",
              " 'still': [2, 0],\n",
              " 'story': [2, 1],\n",
              " 'stupid': [0, 1],\n",
              " 'subjugation': [1, 0],\n",
              " 'suburbs': [0, 1],\n",
              " 'suggest': [1, 0],\n",
              " 'sure': [0, 1],\n",
              " 'survivebr': [0, 1],\n",
              " 'system': [1, 0],\n",
              " 'takes': [0, 1],\n",
              " 'tells': [1, 0],\n",
              " 'terrible': [0, 1],\n",
              " 'than': [1, 4],\n",
              " 'thats': [0, 1],\n",
              " 'their': [0, 2],\n",
              " 'themselves': [1, 0],\n",
              " 'there': [0, 1],\n",
              " 'therefore': [0, 1],\n",
              " 'these': [1, 0],\n",
              " 'think': [1, 1],\n",
              " 'thinking': [0, 1],\n",
              " 'this': [7, 7],\n",
              " 'those': [1, 0],\n",
              " 'threatened': [0, 1],\n",
              " 'throat': [0, 1],\n",
              " 'through': [1, 0],\n",
              " 'title': [1, 1],\n",
              " 'to': [6, 10],\n",
              " 'together': [0, 1],\n",
              " 'tomás': [0, 1],\n",
              " 'toolbox': [0, 2],\n",
              " 'totally': [0, 1],\n",
              " 'tragic': [1, 0],\n",
              " 'trailer': [0, 2],\n",
              " 'trite': [1, 0],\n",
              " 'triumphs': [1, 0],\n",
              " 'truck': [0, 1],\n",
              " 'truth': [1, 0],\n",
              " 'trying': [0, 1],\n",
              " 'turn': [1, 1],\n",
              " 'turned': [0, 1],\n",
              " 'tv': [0, 1],\n",
              " 'twenty': [1, 0],\n",
              " 'twin': [0, 1],\n",
              " 'twins': [0, 1],\n",
              " 'two': [0, 1],\n",
              " 'unable': [1, 0],\n",
              " 'underrated': [1, 0],\n",
              " 'unfortunately': [0, 1],\n",
              " 'up': [2, 1],\n",
              " 'upperclass': [0, 1],\n",
              " 'upsetting': [0, 1],\n",
              " 'utility': [0, 1],\n",
              " 'viewing': [1, 0],\n",
              " 'villian': [1, 0],\n",
              " 'vingh': [0, 1],\n",
              " 'violence': [5, 0],\n",
              " 'vote': [0, 1],\n",
              " 'walled': [1, 0],\n",
              " 'warrior': [1, 0],\n",
              " 'wasnt': [1, 0],\n",
              " 'watch': [1, 1],\n",
              " 'way': [0, 1],\n",
              " 'werewolf': [0, 3],\n",
              " 'when': [0, 4],\n",
              " 'where': [1, 0],\n",
              " 'which': [1, 0],\n",
              " 'while': [0, 3],\n",
              " 'whole': [2, 0],\n",
              " 'wife': [0, 1],\n",
              " 'with': [1, 5],\n",
              " 'within': [1, 0],\n",
              " 'without': [1, 0],\n",
              " 'woman': [0, 1],\n",
              " 'women': [1, 0],\n",
              " 'wonderful': [1, 0],\n",
              " 'wood': [0, 1],\n",
              " 'words': [1, 0],\n",
              " 'world': [1, 0],\n",
              " 'would': [3, 0],\n",
              " 'wrapping': [0, 1],\n",
              " 'wu': [0, 1],\n",
              " 'yearold': [0, 1],\n",
              " 'years': [2, 0],\n",
              " 'young': [1, 1],\n",
              " 'younger': [1, 0]}"
            ]
          },
          "metadata": {},
          "execution_count": 327
        }
      ]
    },
    {
      "cell_type": "code",
      "source": [
        "# def extract_features(tweet, vocab):\n",
        "#   x_m = np.ones((1, 3))\n",
        "\n",
        "#   for v in vocab\n",
        "\n",
        "#   return vocab"
      ],
      "metadata": {
        "id": "z-xskp1_CdMr"
      },
      "execution_count": 328,
      "outputs": []
    },
    {
      "cell_type": "code",
      "source": [
        ""
      ],
      "metadata": {
        "id": "K6xeCyYxOtFi"
      },
      "execution_count": null,
      "outputs": []
    }
  ]
}